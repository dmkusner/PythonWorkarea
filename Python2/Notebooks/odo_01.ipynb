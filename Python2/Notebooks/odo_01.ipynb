{
 "cells": [
  {
   "cell_type": "code",
   "execution_count": 1,
   "metadata": {
    "collapsed": false
   },
   "outputs": [
    {
     "name": "stdout",
     "output_type": "stream",
     "text": [
      "Populating the interactive namespace from numpy and matplotlib\n"
     ]
    }
   ],
   "source": [
    "import odo\n",
    "import sqlite3\n",
    "import numpy as np\n",
    "import pandas as pd\n",
    "import csv\n",
    "import blaze\n",
    "\n",
    "%pylab inline"
   ]
  },
  {
   "cell_type": "code",
   "execution_count": 2,
   "metadata": {
    "collapsed": false,
    "scrolled": true
   },
   "outputs": [
    {
     "data": {
      "text/plain": [
       "[1, 2, 3]"
      ]
     },
     "execution_count": 2,
     "metadata": {},
     "output_type": "execute_result"
    }
   ],
   "source": [
    "odo.odo((1, 2, 3), list)"
   ]
  },
  {
   "cell_type": "code",
   "execution_count": 3,
   "metadata": {
    "collapsed": false
   },
   "outputs": [
    {
     "name": "stdout",
     "output_type": "stream",
     "text": [
      "-rw-rw-r--. 1 david david 2422909 Mar 17  2014 /home/david/datasets/baseball/Master.csv\r\n"
     ]
    }
   ],
   "source": [
    "%ls -l /home/david/datasets/baseball/Master.csv"
   ]
  },
  {
   "cell_type": "code",
   "execution_count": 4,
   "metadata": {
    "collapsed": false,
    "scrolled": true
   },
   "outputs": [
    {
     "data": {
      "text/html": [
       "<div>\n",
       "<table border=\"1\" class=\"dataframe\">\n",
       "  <thead>\n",
       "    <tr style=\"text-align: right;\">\n",
       "      <th></th>\n",
       "      <th>playerID</th>\n",
       "      <th>birthYear</th>\n",
       "      <th>birthMonth</th>\n",
       "      <th>birthDay</th>\n",
       "      <th>birthCountry</th>\n",
       "      <th>birthState</th>\n",
       "      <th>birthCity</th>\n",
       "      <th>deathYear</th>\n",
       "      <th>deathMonth</th>\n",
       "      <th>deathDay</th>\n",
       "      <th>...</th>\n",
       "      <th>nameLast</th>\n",
       "      <th>nameGiven</th>\n",
       "      <th>weight</th>\n",
       "      <th>height</th>\n",
       "      <th>bats</th>\n",
       "      <th>throws</th>\n",
       "      <th>debut</th>\n",
       "      <th>finalGame</th>\n",
       "      <th>retroID</th>\n",
       "      <th>bbrefID</th>\n",
       "    </tr>\n",
       "  </thead>\n",
       "  <tbody>\n",
       "    <tr>\n",
       "      <th>0</th>\n",
       "      <td>aardsda01</td>\n",
       "      <td>1981</td>\n",
       "      <td>12</td>\n",
       "      <td>27</td>\n",
       "      <td>USA</td>\n",
       "      <td>CO</td>\n",
       "      <td>Denver</td>\n",
       "      <td>NaN</td>\n",
       "      <td>NaN</td>\n",
       "      <td>NaN</td>\n",
       "      <td>...</td>\n",
       "      <td>Aardsma</td>\n",
       "      <td>David Allan</td>\n",
       "      <td>205</td>\n",
       "      <td>75</td>\n",
       "      <td>R</td>\n",
       "      <td>R</td>\n",
       "      <td>2004-04-06</td>\n",
       "      <td>2013-09-28</td>\n",
       "      <td>aardd001</td>\n",
       "      <td>aardsda01</td>\n",
       "    </tr>\n",
       "    <tr>\n",
       "      <th>1</th>\n",
       "      <td>aaronha01</td>\n",
       "      <td>1934</td>\n",
       "      <td>2</td>\n",
       "      <td>5</td>\n",
       "      <td>USA</td>\n",
       "      <td>AL</td>\n",
       "      <td>Mobile</td>\n",
       "      <td>NaN</td>\n",
       "      <td>NaN</td>\n",
       "      <td>NaN</td>\n",
       "      <td>...</td>\n",
       "      <td>Aaron</td>\n",
       "      <td>Henry Louis</td>\n",
       "      <td>180</td>\n",
       "      <td>72</td>\n",
       "      <td>R</td>\n",
       "      <td>R</td>\n",
       "      <td>1954-04-13</td>\n",
       "      <td>1976-10-03</td>\n",
       "      <td>aaroh101</td>\n",
       "      <td>aaronha01</td>\n",
       "    </tr>\n",
       "    <tr>\n",
       "      <th>2</th>\n",
       "      <td>aaronto01</td>\n",
       "      <td>1939</td>\n",
       "      <td>8</td>\n",
       "      <td>5</td>\n",
       "      <td>USA</td>\n",
       "      <td>AL</td>\n",
       "      <td>Mobile</td>\n",
       "      <td>1984</td>\n",
       "      <td>8</td>\n",
       "      <td>16</td>\n",
       "      <td>...</td>\n",
       "      <td>Aaron</td>\n",
       "      <td>Tommie Lee</td>\n",
       "      <td>190</td>\n",
       "      <td>75</td>\n",
       "      <td>R</td>\n",
       "      <td>R</td>\n",
       "      <td>1962-04-10</td>\n",
       "      <td>1971-09-26</td>\n",
       "      <td>aarot101</td>\n",
       "      <td>aaronto01</td>\n",
       "    </tr>\n",
       "    <tr>\n",
       "      <th>3</th>\n",
       "      <td>aasedo01</td>\n",
       "      <td>1954</td>\n",
       "      <td>9</td>\n",
       "      <td>8</td>\n",
       "      <td>USA</td>\n",
       "      <td>CA</td>\n",
       "      <td>Orange</td>\n",
       "      <td>NaN</td>\n",
       "      <td>NaN</td>\n",
       "      <td>NaN</td>\n",
       "      <td>...</td>\n",
       "      <td>Aase</td>\n",
       "      <td>Donald William</td>\n",
       "      <td>190</td>\n",
       "      <td>75</td>\n",
       "      <td>R</td>\n",
       "      <td>R</td>\n",
       "      <td>1977-07-26</td>\n",
       "      <td>1990-10-03</td>\n",
       "      <td>aased001</td>\n",
       "      <td>aasedo01</td>\n",
       "    </tr>\n",
       "    <tr>\n",
       "      <th>4</th>\n",
       "      <td>abadan01</td>\n",
       "      <td>1972</td>\n",
       "      <td>8</td>\n",
       "      <td>25</td>\n",
       "      <td>USA</td>\n",
       "      <td>FL</td>\n",
       "      <td>Palm Beach</td>\n",
       "      <td>NaN</td>\n",
       "      <td>NaN</td>\n",
       "      <td>NaN</td>\n",
       "      <td>...</td>\n",
       "      <td>Abad</td>\n",
       "      <td>Fausto Andres</td>\n",
       "      <td>184</td>\n",
       "      <td>73</td>\n",
       "      <td>L</td>\n",
       "      <td>L</td>\n",
       "      <td>2001-09-10</td>\n",
       "      <td>2006-04-13</td>\n",
       "      <td>abada001</td>\n",
       "      <td>abadan01</td>\n",
       "    </tr>\n",
       "  </tbody>\n",
       "</table>\n",
       "<p>5 rows × 24 columns</p>\n",
       "</div>"
      ],
      "text/plain": [
       "    playerID  birthYear  birthMonth  birthDay birthCountry birthState  \\\n",
       "0  aardsda01       1981          12        27          USA         CO   \n",
       "1  aaronha01       1934           2         5          USA         AL   \n",
       "2  aaronto01       1939           8         5          USA         AL   \n",
       "3   aasedo01       1954           9         8          USA         CA   \n",
       "4   abadan01       1972           8        25          USA         FL   \n",
       "\n",
       "    birthCity  deathYear  deathMonth  deathDay    ...     nameLast  \\\n",
       "0      Denver        NaN         NaN       NaN    ...      Aardsma   \n",
       "1      Mobile        NaN         NaN       NaN    ...        Aaron   \n",
       "2      Mobile       1984           8        16    ...        Aaron   \n",
       "3      Orange        NaN         NaN       NaN    ...         Aase   \n",
       "4  Palm Beach        NaN         NaN       NaN    ...         Abad   \n",
       "\n",
       "        nameGiven weight height bats throws       debut   finalGame   retroID  \\\n",
       "0     David Allan    205     75    R      R  2004-04-06  2013-09-28  aardd001   \n",
       "1     Henry Louis    180     72    R      R  1954-04-13  1976-10-03  aaroh101   \n",
       "2      Tommie Lee    190     75    R      R  1962-04-10  1971-09-26  aarot101   \n",
       "3  Donald William    190     75    R      R  1977-07-26  1990-10-03  aased001   \n",
       "4   Fausto Andres    184     73    L      L  2001-09-10  2006-04-13  abada001   \n",
       "\n",
       "     bbrefID  \n",
       "0  aardsda01  \n",
       "1  aaronha01  \n",
       "2  aaronto01  \n",
       "3   aasedo01  \n",
       "4   abadan01  \n",
       "\n",
       "[5 rows x 24 columns]"
      ]
     },
     "execution_count": 4,
     "metadata": {},
     "output_type": "execute_result"
    }
   ],
   "source": [
    "df1 = pd.read_csv('/home/david/datasets/baseball/Master.csv')\n",
    "df1.head()"
   ]
  },
  {
   "cell_type": "code",
   "execution_count": 5,
   "metadata": {
    "collapsed": false,
    "scrolled": false
   },
   "outputs": [
    {
     "data": {
      "text/plain": [
       "Table('Master', MetaData(bind=Engine(sqlite:///baseball1.db)), Column('playerID', TEXT(), table=<Master>), Column('birthYear', FLOAT(), table=<Master>), Column('birthMonth', FLOAT(), table=<Master>), Column('birthDay', FLOAT(), table=<Master>), Column('birthCountry', TEXT(), table=<Master>), Column('birthState', TEXT(), table=<Master>), Column('birthCity', TEXT(), table=<Master>), Column('deathYear', FLOAT(), table=<Master>), Column('deathMonth', FLOAT(), table=<Master>), Column('deathDay', FLOAT(), table=<Master>), Column('deathCountry', TEXT(), table=<Master>), Column('deathState', TEXT(), table=<Master>), Column('deathCity', TEXT(), table=<Master>), Column('nameFirst', TEXT(), table=<Master>), Column('nameLast', TEXT(), table=<Master>), Column('nameGiven', TEXT(), table=<Master>), Column('weight', FLOAT(), table=<Master>), Column('height', FLOAT(), table=<Master>), Column('bats', TEXT(), table=<Master>), Column('throws', TEXT(), table=<Master>), Column('debut', TEXT(), table=<Master>), Column('finalGame', TEXT(), table=<Master>), Column('retroID', TEXT(), table=<Master>), Column('bbrefID', TEXT(), table=<Master>), schema=None)"
      ]
     },
     "execution_count": 5,
     "metadata": {},
     "output_type": "execute_result"
    }
   ],
   "source": [
    "odo.odo(df1, 'sqlite:///baseball1.db::Master')"
   ]
  },
  {
   "cell_type": "code",
   "execution_count": 6,
   "metadata": {
    "collapsed": false,
    "scrolled": false
   },
   "outputs": [
    {
     "data": {
      "text/plain": [
       "Table('Master', MetaData(bind=Engine(sqlite:///baseball2.db)), Column('playerID', TEXT(), table=<Master>), Column('birthYear', FLOAT(), table=<Master>), Column('birthMonth', FLOAT(), table=<Master>), Column('birthDay', FLOAT(), table=<Master>), Column('birthCountry', TEXT(), table=<Master>), Column('birthState', TEXT(), table=<Master>), Column('birthCity', TEXT(), table=<Master>), Column('deathYear', FLOAT(), table=<Master>), Column('deathMonth', FLOAT(), table=<Master>), Column('deathDay', FLOAT(), table=<Master>), Column('deathCountry', TEXT(), table=<Master>), Column('deathState', TEXT(), table=<Master>), Column('deathCity', TEXT(), table=<Master>), Column('nameFirst', TEXT(), table=<Master>), Column('nameLast', TEXT(), table=<Master>), Column('nameGiven', TEXT(), table=<Master>), Column('weight', FLOAT(), table=<Master>), Column('height', FLOAT(), table=<Master>), Column('bats', TEXT(), table=<Master>), Column('throws', TEXT(), table=<Master>), Column('debut', DATETIME(), table=<Master>), Column('finalGame', DATETIME(), table=<Master>), Column('retroID', TEXT(), table=<Master>), Column('bbrefID', TEXT(), table=<Master>), schema=None)"
      ]
     },
     "execution_count": 6,
     "metadata": {},
     "output_type": "execute_result"
    }
   ],
   "source": [
    "odo.odo('/home/david/datasets/baseball/Master.csv', 'sqlite:///baseball2.db::Master', encoding='utf-8', delimiter=',')"
   ]
  },
  {
   "cell_type": "code",
   "execution_count": 7,
   "metadata": {
    "collapsed": false
   },
   "outputs": [
    {
     "data": {
      "text/plain": [
       "<odo.backends.json.JSON at 0x7f0f811dbc10>"
      ]
     },
     "execution_count": 7,
     "metadata": {},
     "output_type": "execute_result"
    }
   ],
   "source": [
    "jf = odo.JSON('x.json')\n",
    "odo.odo(df1,jf)"
   ]
  },
  {
   "cell_type": "code",
   "execution_count": null,
   "metadata": {
    "collapsed": true
   },
   "outputs": [],
   "source": []
  }
 ],
 "metadata": {
  "kernelspec": {
   "display_name": "Python 2",
   "language": "python",
   "name": "python2"
  },
  "language_info": {
   "codemirror_mode": {
    "name": "ipython",
    "version": 2
   },
   "file_extension": ".py",
   "mimetype": "text/x-python",
   "name": "python",
   "nbconvert_exporter": "python",
   "pygments_lexer": "ipython2",
   "version": "2.7.11"
  }
 },
 "nbformat": 4,
 "nbformat_minor": 0
}
