{
 "cells": [
  {
   "cell_type": "code",
   "execution_count": 1,
   "metadata": {
    "collapsed": true
   },
   "outputs": [],
   "source": [
    "import heapq\n",
    "import random"
   ]
  },
  {
   "cell_type": "code",
   "execution_count": 2,
   "metadata": {
    "collapsed": false
   },
   "outputs": [
    {
     "name": "stdout",
     "output_type": "stream",
     "text": [
      "[26, 26, 29, 31, 32, 41, 62, 76, 48, 52, 73, 48, 43, 76, 79, 85, 91, 99, 82, 91, 59, 91, 90, 69, 51]\n"
     ]
    }
   ],
   "source": [
    "random.seed(0)\n",
    "heap_data = [random.randint(1,100) for i in range(25)]\n",
    "\n",
    "heapq.heapify(heap_data)\n",
    "print heap_data"
   ]
  },
  {
   "cell_type": "code",
   "execution_count": 3,
   "metadata": {
    "collapsed": false
   },
   "outputs": [
    {
     "name": "stdout",
     "output_type": "stream",
     "text": [
      "[26, 26, 29, 31, 32]\n",
      "[99, 91, 91, 91, 90]\n"
     ]
    }
   ],
   "source": [
    "print heapq.nsmallest(5,heap_data)\n",
    "print heapq.nlargest(5,heap_data)"
   ]
  },
  {
   "cell_type": "code",
   "execution_count": 4,
   "metadata": {
    "collapsed": false
   },
   "outputs": [
    {
     "name": "stdout",
     "output_type": "stream",
     "text": [
      "26\n",
      "[16, 31, 26, 48, 32, 29, 62, 76, 51, 52, 73, 41, 43, 76, 79, 85, 91, 99, 82, 91, 59, 91, 90, 69, 48]\n"
     ]
    }
   ],
   "source": [
    "print heapq.heappop(heap_data)\n",
    "heapq.heappush(heap_data,16)\n",
    "print heap_data"
   ]
  },
  {
   "cell_type": "code",
   "execution_count": 5,
   "metadata": {
    "collapsed": false
   },
   "outputs": [
    {
     "name": "stdout",
     "output_type": "stream",
     "text": [
      "[26, 31, 29, 48, 32, 41, 62, 76, 51, 52, 73, 48, 43, 76, 79, 85, 91, 99, 82, 91, 59, 91, 90, 69, 63]\n",
      "[29, 31, 35, 48, 32, 41, 62, 76, 51, 52, 73, 48, 43, 76, 79, 85, 91, 99, 82, 91, 59, 91, 90, 69, 63]\n"
     ]
    }
   ],
   "source": [
    "# replace smallest (16) with 63\n",
    "heapq.heapreplace(heap_data,63)\n",
    "print heap_data\n",
    "# replace smallest (26) with 35\n",
    "heapq.heapreplace(heap_data,35)\n",
    "print heap_data"
   ]
  },
  {
   "cell_type": "code",
   "execution_count": 6,
   "metadata": {
    "collapsed": false
   },
   "outputs": [
    {
     "name": "stdout",
     "output_type": "stream",
     "text": [
      "[29, 31, 32, 35, 41]\n",
      "[99, 91, 91, 91, 90]\n"
     ]
    }
   ],
   "source": [
    "print heapq.nsmallest(5,heap_data)\n",
    "print heapq.nlargest(5,heap_data)"
   ]
  },
  {
   "cell_type": "code",
   "execution_count": null,
   "metadata": {
    "collapsed": true
   },
   "outputs": [],
   "source": []
  }
 ],
 "metadata": {
  "kernelspec": {
   "display_name": "Python 2",
   "language": "python",
   "name": "python2"
  },
  "language_info": {
   "codemirror_mode": {
    "name": "ipython",
    "version": 2
   },
   "file_extension": ".py",
   "mimetype": "text/x-python",
   "name": "python",
   "nbconvert_exporter": "python",
   "pygments_lexer": "ipython2",
   "version": "2.7.10"
  }
 },
 "nbformat": 4,
 "nbformat_minor": 0
}
