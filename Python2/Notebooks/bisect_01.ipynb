{
 "cells": [
  {
   "cell_type": "code",
   "execution_count": 1,
   "metadata": {
    "collapsed": true
   },
   "outputs": [],
   "source": [
    "import bisect\n",
    "import random"
   ]
  },
  {
   "cell_type": "code",
   "execution_count": 2,
   "metadata": {
    "collapsed": false
   },
   "outputs": [
    {
     "name": "stdout",
     "output_type": "stream",
     "text": [
      "[55, 56, 80, 59, 56, 73, 71, 60, 69, 92, 56, 59, 51, 62, 54, 100, 66, 100, 56, 96]\n"
     ]
    }
   ],
   "source": [
    "random.seed(28)\n",
    "random_data = [random.randint(50,100) for i in range(20)]\n",
    "print random_data"
   ]
  },
  {
   "cell_type": "code",
   "execution_count": 3,
   "metadata": {
    "collapsed": false
   },
   "outputs": [
    {
     "name": "stdout",
     "output_type": "stream",
     "text": [
      "[51, 54, 55, 56, 56, 56, 56, 59, 59, 60, 62, 66, 69, 71, 73, 80, 92, 96, 100, 100]\n"
     ]
    }
   ],
   "source": [
    "sorted_data = []\n",
    "for i in random_data:\n",
    "    bisect.insort(sorted_data,i)\n",
    "print sorted_data"
   ]
  },
  {
   "cell_type": "code",
   "execution_count": 4,
   "metadata": {
    "collapsed": false
   },
   "outputs": [
    {
     "name": "stdout",
     "output_type": "stream",
     "text": [
      "((51, 'F'), (54, 'F'), (55, 'F'), (56, 'F'), (56, 'F'), (56, 'F'), (56, 'F'), (59, 'F'), (59, 'F'), (60, 'D'), (62, 'D'), (66, 'D'), (69, 'D'), (71, 'C'), (73, 'C'), (80, 'B'), (92, 'A'), (96, 'A'), (100, 'A'), (100, 'A'))\n"
     ]
    }
   ],
   "source": [
    "def grade(score, breakpoints=[60, 70, 80, 90], grades='FDCBA'):\n",
    "    i = bisect.bisect(breakpoints, score)\n",
    "    return grades[i]\n",
    "\n",
    "print tuple(zip(sorted_data,[grade(score) for score in sorted_data]))"
   ]
  },
  {
   "cell_type": "code",
   "execution_count": 5,
   "metadata": {
    "collapsed": false
   },
   "outputs": [
    {
     "name": "stdout",
     "output_type": "stream",
     "text": [
      "pos: 9, item: 60\n",
      "pos: 10, item: 62\n"
     ]
    }
   ],
   "source": [
    "# If item exists in list, bisect_left and bisect_right give different result\n",
    "p = bisect.bisect_left(sorted_data,60)\n",
    "print \"pos: {}, item: {}\".format(p,sorted_data[p])\n",
    "p = bisect.bisect_right(sorted_data,60)\n",
    "print \"pos: {}, item: {}\".format(p,sorted_data[p])"
   ]
  },
  {
   "cell_type": "code",
   "execution_count": 6,
   "metadata": {
    "collapsed": false
   },
   "outputs": [
    {
     "name": "stdout",
     "output_type": "stream",
     "text": [
      "pos: 11, item: 66\n",
      "pos: 11, item: 66\n"
     ]
    }
   ],
   "source": [
    "# If item does not exist in list, bisect_left and bisect_right give same result\n",
    "p = bisect.bisect_left(sorted_data,65)\n",
    "print \"pos: {}, item: {}\".format(p,sorted_data[p])\n",
    "p = bisect.bisect_right(sorted_data,65)\n",
    "print \"pos: {}, item: {}\".format(p,sorted_data[p])"
   ]
  },
  {
   "cell_type": "code",
   "execution_count": null,
   "metadata": {
    "collapsed": true
   },
   "outputs": [],
   "source": []
  }
 ],
 "metadata": {
  "kernelspec": {
   "display_name": "Python 2",
   "language": "python",
   "name": "python2"
  },
  "language_info": {
   "codemirror_mode": {
    "name": "ipython",
    "version": 2
   },
   "file_extension": ".py",
   "mimetype": "text/x-python",
   "name": "python",
   "nbconvert_exporter": "python",
   "pygments_lexer": "ipython2",
   "version": "2.7.11"
  }
 },
 "nbformat": 4,
 "nbformat_minor": 0
}
